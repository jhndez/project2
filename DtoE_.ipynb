{
  "nbformat": 4,
  "nbformat_minor": 0,
  "metadata": {
    "colab": {
      "name": "DtoE .ipynb",
      "provenance": [],
      "collapsed_sections": []
    },
    "kernelspec": {
      "name": "python3",
      "display_name": "Python 3"
    }
  },
  "cells": [
    {
      "cell_type": "code",
      "metadata": {
        "id": "6Q1iwvpzKao9",
        "colab_type": "code",
        "colab": {
          "base_uri": "https://localhost:8080/",
          "height": 237
        },
        "outputId": "775eaedc-3389-49c1-c3fc-44dd18be1324"
      },
      "source": [
        "!pip install simfin"
      ],
      "execution_count": null,
      "outputs": [
        {
          "output_type": "stream",
          "text": [
            "Requirement already satisfied: simfin in /usr/local/lib/python3.6/dist-packages (0.8.1)\n",
            "Requirement already satisfied: numpy in /usr/local/lib/python3.6/dist-packages (from simfin) (1.18.5)\n",
            "Requirement already satisfied: pandas in /usr/local/lib/python3.6/dist-packages (from simfin) (1.0.5)\n",
            "Requirement already satisfied: requests in /usr/local/lib/python3.6/dist-packages (from simfin) (2.23.0)\n",
            "Requirement already satisfied: python-dateutil>=2.6.1 in /usr/local/lib/python3.6/dist-packages (from pandas->simfin) (2.8.1)\n",
            "Requirement already satisfied: pytz>=2017.2 in /usr/local/lib/python3.6/dist-packages (from pandas->simfin) (2018.9)\n",
            "Requirement already satisfied: certifi>=2017.4.17 in /usr/local/lib/python3.6/dist-packages (from requests->simfin) (2020.6.20)\n",
            "Requirement already satisfied: chardet<4,>=3.0.2 in /usr/local/lib/python3.6/dist-packages (from requests->simfin) (3.0.4)\n",
            "Requirement already satisfied: urllib3!=1.25.0,!=1.25.1,<1.26,>=1.21.1 in /usr/local/lib/python3.6/dist-packages (from requests->simfin) (1.24.3)\n",
            "Requirement already satisfied: idna<3,>=2.5 in /usr/local/lib/python3.6/dist-packages (from requests->simfin) (2.9)\n",
            "Requirement already satisfied: six>=1.5 in /usr/local/lib/python3.6/dist-packages (from python-dateutil>=2.6.1->pandas->simfin) (1.12.0)\n"
          ],
          "name": "stdout"
        }
      ]
    },
    {
      "cell_type": "code",
      "metadata": {
        "id": "xVQn84Qql5uI",
        "colab_type": "code",
        "colab": {}
      },
      "source": [
        "# IMPORTS\n",
        "import pandas as pd\n",
        "import numpy as np\n",
        "# Import the main functionality from the SimFin Python API.\n",
        "import simfin as sf\n",
        "\n",
        "# Import names used for easy access to SimFin's data-columns.\n",
        "from simfin.names import *\n",
        "\n",
        "# Imports for charting\n",
        "%matplotlib inline\n",
        "import matplotlib.pyplot as plt\n",
        "import seaborn as sns\n",
        "import altair as alt\n",
        "from plotly.offline import iplot\n",
        "import plotly.graph_objs as go\n",
        "import numpy as np; np.random.seed(0)\n",
        "\n",
        "import seaborn as sns; sns.set()"
      ],
      "execution_count": null,
      "outputs": []
    },
    {
      "cell_type": "code",
      "metadata": {
        "id": "Q-7i-qjnl-MV",
        "colab_type": "code",
        "colab": {}
      },
      "source": [
        "\n",
        "\n",
        "# Version of the SimFin Python API.\n",
        "sf.__version__\n",
        "\n",
        "# SimFin data-directory.\n",
        "sf.set_data_dir('~/simfin_data/')\n",
        "\n",
        "sf.set_api_key(api_key='free')\n",
        "\n"
      ],
      "execution_count": null,
      "outputs": []
    },
    {
      "cell_type": "code",
      "metadata": {
        "id": "1MMZLD5xF5T8",
        "colab_type": "code",
        "colab": {
          "base_uri": "https://localhost:8080/",
          "height": 162
        },
        "outputId": "2896acc0-0271-4437-ecf8-b5a826d01e1b"
      },
      "source": [
        "%%time\n",
        "# Data for USA.\n",
        "market = 'us'\n",
        "\n",
        "\n",
        "\n",
        "# Quarterly Balance Sheets.\n",
        "df_balance_qrt = sf.load_balance(variant='quarterly', market=market)\n",
        "\n",
        "# Daily Share-Prices.\n",
        "df_prices = sf.load_shareprices(variant='daily', market=market)"
      ],
      "execution_count": null,
      "outputs": [
        {
          "output_type": "stream",
          "text": [
            "Dataset \"us-balance-quarterly\" on disk (0 days old).\n",
            "- Loading from disk ... Done!\n",
            "Dataset \"us-balance-quarterly\" on disk (0 days old).\n",
            "- Loading from disk ... Done!\n",
            "Dataset \"us-shareprices-daily\" on disk (0 days old).\n",
            "- Loading from disk ... Done!\n",
            "CPU times: user 14.8 s, sys: 635 ms, total: 15.4 s\n",
            "Wall time: 15.4 s\n"
          ],
          "name": "stdout"
        }
      ]
    },
    {
      "cell_type": "code",
      "metadata": {
        "id": "WH7CNTPlF-a6",
        "colab_type": "code",
        "colab": {}
      },
      "source": [
        "Rental_tickers = ['HTZ']\n",
        "\n",
        "df_rental_balance_qrt = df_balance_qrt.loc[Rental_tickers].copy()\n",
        "df_prices = df_prices.loc[Rental_tickers].copy()\n",
        "\n"
      ],
      "execution_count": null,
      "outputs": []
    },
    {
      "cell_type": "code",
      "metadata": {
        "id": "bE2pdAFlGC41",
        "colab_type": "code",
        "colab": {
          "base_uri": "https://localhost:8080/",
          "height": 35
        },
        "outputId": "7317d1f5-600e-436a-c1a9-1008d9dc5ec4"
      },
      "source": [
        "df_rental_balance_qrt['DtoE'] = df_rental_balance_qrt['Total Liabilities'] / df_balance_qrt['Total Equity']\n",
        "\n",
        "# Data from Income Statements.\n",
        "df1 = df_prices[['Adj. Close']]\n",
        "\n",
        "# Data from Balance Sheets.\n",
        "df2 = df_rental_balance_qrt[['DtoE','Total Liabilities','Total Equity']]\n",
        "\n",
        "\n",
        "# Combine the data into a single DataFrame.\n",
        "df_join = pd.concat([df1, df2], axis=1)\n",
        "\n",
        "df_join.dropna(inplace=True)\n",
        "\n",
        "df_join.reset_index(inplace=True)\n",
        "\n",
        "df_join['DtoE'].mean()\n"
      ],
      "execution_count": null,
      "outputs": [
        {
          "output_type": "execute_result",
          "data": {
            "text/plain": [
              "13.665729354525324"
            ]
          },
          "metadata": {
            "tags": []
          },
          "execution_count": 119
        }
      ]
    },
    {
      "cell_type": "code",
      "metadata": {
        "id": "7MpKR9vMHFsU",
        "colab_type": "code",
        "colab": {
          "base_uri": "https://localhost:8080/",
          "height": 206
        },
        "outputId": "7da08c42-f3d8-47ef-ae1f-67f693717a91"
      },
      "source": [
        "df_join['Alert'] = df_join['DtoE'].apply(lambda x: 'Trade Alert' if x >= 13.66 else 'Stay Put')\n",
        "\n",
        "df_join = df_join.rename(columns={'level_0':'Ticker','level_1':'Date'})\n",
        "\n",
        "df_join\n",
        "df_join.set_index('Date')\n",
        "\n",
        "df_join.tail()"
      ],
      "execution_count": null,
      "outputs": [
        {
          "output_type": "execute_result",
          "data": {
            "text/html": [
              "<div>\n",
              "<style scoped>\n",
              "    .dataframe tbody tr th:only-of-type {\n",
              "        vertical-align: middle;\n",
              "    }\n",
              "\n",
              "    .dataframe tbody tr th {\n",
              "        vertical-align: top;\n",
              "    }\n",
              "\n",
              "    .dataframe thead th {\n",
              "        text-align: right;\n",
              "    }\n",
              "</style>\n",
              "<table border=\"1\" class=\"dataframe\">\n",
              "  <thead>\n",
              "    <tr style=\"text-align: right;\">\n",
              "      <th></th>\n",
              "      <th>Ticker</th>\n",
              "      <th>Date</th>\n",
              "      <th>Adj. Close</th>\n",
              "      <th>DtoE</th>\n",
              "      <th>Total Liabilities</th>\n",
              "      <th>Total Equity</th>\n",
              "      <th>Alert</th>\n",
              "    </tr>\n",
              "  </thead>\n",
              "  <tbody>\n",
              "    <tr>\n",
              "      <th>6</th>\n",
              "      <td>HTZ</td>\n",
              "      <td>2016-06-30</td>\n",
              "      <td>38.23</td>\n",
              "      <td>12.685519</td>\n",
              "      <td>2.041100e+10</td>\n",
              "      <td>1.609000e+09</td>\n",
              "      <td>Stay Put</td>\n",
              "    </tr>\n",
              "    <tr>\n",
              "      <th>7</th>\n",
              "      <td>HTZ</td>\n",
              "      <td>2016-09-30</td>\n",
              "      <td>34.89</td>\n",
              "      <td>12.431024</td>\n",
              "      <td>1.955400e+10</td>\n",
              "      <td>1.573000e+09</td>\n",
              "      <td>Stay Put</td>\n",
              "    </tr>\n",
              "    <tr>\n",
              "      <th>8</th>\n",
              "      <td>HTZ</td>\n",
              "      <td>2017-03-31</td>\n",
              "      <td>15.24</td>\n",
              "      <td>20.411765</td>\n",
              "      <td>1.873800e+10</td>\n",
              "      <td>9.180000e+08</td>\n",
              "      <td>Trade Alert</td>\n",
              "    </tr>\n",
              "    <tr>\n",
              "      <th>9</th>\n",
              "      <td>HTZ</td>\n",
              "      <td>2017-06-30</td>\n",
              "      <td>9.99</td>\n",
              "      <td>28.673280</td>\n",
              "      <td>2.167700e+10</td>\n",
              "      <td>7.560000e+08</td>\n",
              "      <td>Trade Alert</td>\n",
              "    </tr>\n",
              "    <tr>\n",
              "      <th>10</th>\n",
              "      <td>HTZ</td>\n",
              "      <td>2018-12-31</td>\n",
              "      <td>11.86</td>\n",
              "      <td>18.091071</td>\n",
              "      <td>2.026200e+10</td>\n",
              "      <td>1.120000e+09</td>\n",
              "      <td>Trade Alert</td>\n",
              "    </tr>\n",
              "  </tbody>\n",
              "</table>\n",
              "</div>"
            ],
            "text/plain": [
              "   Ticker       Date  Adj. Close  ...  Total Liabilities  Total Equity        Alert\n",
              "6     HTZ 2016-06-30       38.23  ...       2.041100e+10  1.609000e+09     Stay Put\n",
              "7     HTZ 2016-09-30       34.89  ...       1.955400e+10  1.573000e+09     Stay Put\n",
              "8     HTZ 2017-03-31       15.24  ...       1.873800e+10  9.180000e+08  Trade Alert\n",
              "9     HTZ 2017-06-30        9.99  ...       2.167700e+10  7.560000e+08  Trade Alert\n",
              "10    HTZ 2018-12-31       11.86  ...       2.026200e+10  1.120000e+09  Trade Alert\n",
              "\n",
              "[5 rows x 7 columns]"
            ]
          },
          "metadata": {
            "tags": []
          },
          "execution_count": 120
        }
      ]
    },
    {
      "cell_type": "code",
      "metadata": {
        "id": "uzUJFvxbGPgo",
        "colab_type": "code",
        "colab": {
          "base_uri": "https://localhost:8080/",
          "height": 391
        },
        "outputId": "f40e0373-95be-47c9-be8c-d08d495c9639"
      },
      "source": [
        "\n",
        "\n",
        "Debttoequity_Comparison = df_join.plot(x=\"Date\", y=[\"Adj. Close\", 'DtoE',], kind='bar')"
      ],
      "execution_count": null,
      "outputs": [
        {
          "output_type": "display_data",
          "data": {
            "image/png": "[encoded data removed]",
            "text/plain": [
              "<Figure size 432x288 with 1 Axes>"
            ]
          },
          "metadata": {
            "tags": []
          }
        }
      ]
    },
    {
      "cell_type": "code",
      "metadata": {
        "id": "VWwc0TauSUfp",
        "colab_type": "code",
        "colab": {
          "base_uri": "https://localhost:8080/",
          "height": 296
        },
        "outputId": "77b128e2-7bbf-4f37-a558-9d84de775e50"
      },
      "source": [
        "Debttoequity_Comparison = df_join.plot(x=\"Date\", y=['Total Liabilities','Total Equity'], kind='line')"
      ],
      "execution_count": null,
      "outputs": [
        {
          "output_type": "display_data",
          "data": {
            "image/png": "[encoded data removed]",
            "text/plain": [
              "<Figure size 432x288 with 1 Axes>"
            ]
          },
          "metadata": {
            "tags": []
          }
        }
      ]
    }
  ]
}